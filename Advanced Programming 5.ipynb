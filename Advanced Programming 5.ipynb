{
 "cells": [
  {
   "cell_type": "code",
   "execution_count": 10,
   "id": "4029a8bb",
   "metadata": {},
   "outputs": [],
   "source": [
    "def f(n):\n",
    "    x=int(n/2)*2;  \n",
    "    if(x==n):  \n",
    "        print(8)    \n",
    "    else:  \n",
    "        print(2) \n",
    "    "
   ]
  },
  {
   "cell_type": "code",
   "execution_count": 11,
   "id": "92280d9f",
   "metadata": {},
   "outputs": [
    {
     "name": "stdout",
     "output_type": "stream",
     "text": [
      "2\n"
     ]
    }
   ],
   "source": [
    "f(1)"
   ]
  },
  {
   "cell_type": "code",
   "execution_count": 10,
   "id": "d86f2115",
   "metadata": {},
   "outputs": [],
   "source": [
    "def majority_vote(l):\n",
    "    N=len(l)\n",
    "    for i in l:\n",
    "        if l.count(i)>N/2:\n",
    "            return str(i)\n",
    "    return \"None\""
   ]
  },
  {
   "cell_type": "code",
   "execution_count": 11,
   "id": "befce420",
   "metadata": {},
   "outputs": [
    {
     "data": {
      "text/plain": [
       "'None'"
      ]
     },
     "execution_count": 11,
     "metadata": {},
     "output_type": "execute_result"
    }
   ],
   "source": [
    "majority_vote([\"A\",\"B\",\"B\",\"A\",\"C\",\"C\"])"
   ]
  },
  {
   "cell_type": "code",
   "execution_count": 31,
   "id": "6dcabba0",
   "metadata": {},
   "outputs": [],
   "source": [
    "def censor_string(s1,l1,s2):\n",
    "    new_str=''\n",
    "    s=s1.split(' ')\n",
    "    for i in s:\n",
    "        if i in l1:\n",
    "            for j in i: \n",
    "                new_str+=s2\n",
    "        else:\n",
    "            new_str+=i\n",
    "    return new_str\n",
    "    \n",
    "    \n",
    "            \n",
    "        "
   ]
  },
  {
   "cell_type": "code",
   "execution_count": 32,
   "id": "706ff2cb",
   "metadata": {},
   "outputs": [
    {
     "data": {
      "text/plain": [
       "'-----is-Wednesday!'"
      ]
     },
     "execution_count": 32,
     "metadata": {},
     "output_type": "execute_result"
    }
   ],
   "source": [
    "censor_string(\"Today is a Wednesday!\",[\"Today\",\"a\"],\"-\")"
   ]
  },
  {
   "cell_type": "code",
   "execution_count": 40,
   "id": "d8799b26",
   "metadata": {},
   "outputs": [],
   "source": [
    "def is_polydivisible(num):\n",
    "    l=len(str(num))\n",
    "    while num!=0:\n",
    "        x=num\n",
    "        if x%l==0:\n",
    "            pass\n",
    "        else:\n",
    "            return False\n",
    "            break\n",
    "        num=num//10\n",
    "        l=l-1\n",
    "    return True\n",
    "        "
   ]
  },
  {
   "cell_type": "code",
   "execution_count": 41,
   "id": "7b34c0a1",
   "metadata": {},
   "outputs": [
    {
     "data": {
      "text/plain": [
       "False"
      ]
     },
     "execution_count": 41,
     "metadata": {},
     "output_type": "execute_result"
    }
   ],
   "source": [
    "is_polydivisible(123220)"
   ]
  },
  {
   "cell_type": "code",
   "execution_count": 48,
   "id": "39ccc035",
   "metadata": {},
   "outputs": [],
   "source": [
    "def sum_primes(li):\n",
    "    add=0\n",
    "    for i in li:\n",
    "        if i>1:\n",
    "            for j in range(2,i):\n",
    "                if (i%j)==0:\n",
    "                    break\n",
    "            else:\n",
    "                add=add+i\n",
    "    return add"
   ]
  },
  {
   "cell_type": "code",
   "execution_count": 49,
   "id": "bd9870c3",
   "metadata": {},
   "outputs": [
    {
     "data": {
      "text/plain": [
       "17"
      ]
     },
     "execution_count": 49,
     "metadata": {},
     "output_type": "execute_result"
    }
   ],
   "source": [
    "sum_primes([1,2,3,4,5,6,7,8,9,10])"
   ]
  },
  {
   "cell_type": "code",
   "execution_count": null,
   "id": "ba986df7",
   "metadata": {},
   "outputs": [],
   "source": []
  }
 ],
 "metadata": {
  "kernelspec": {
   "display_name": "Python 3",
   "language": "python",
   "name": "python3"
  },
  "language_info": {
   "codemirror_mode": {
    "name": "ipython",
    "version": 3
   },
   "file_extension": ".py",
   "mimetype": "text/x-python",
   "name": "python",
   "nbconvert_exporter": "python",
   "pygments_lexer": "ipython3",
   "version": "3.8.8"
  }
 },
 "nbformat": 4,
 "nbformat_minor": 5
}
